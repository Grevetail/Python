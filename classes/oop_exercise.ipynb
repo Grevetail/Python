{
 "cells": [
  {
   "cell_type": "markdown",
   "id": "f5d65d9c",
   "metadata": {},
   "source": [
    "## 1. **Ещё раз про классы и объекты (экземпляры классов)**\n",
    "\n",
    "Создайте класс **Thing**, не имеющий содержимого. Выведите его наэкран.\n",
    "\n",
    "Создайте объект (экземпляр класса **Thing**) **example**. Выведите его на экран Совпадают ли выведенные значения?"
   ]
  },
  {
   "cell_type": "code",
   "execution_count": 5,
   "id": "da35f6e6",
   "metadata": {},
   "outputs": [
    {
     "name": "stdout",
     "output_type": "stream",
     "text": [
      "<class '__main__.Thing'>\n",
      "<__main__.Thing object at 0x0000018313FF84C0>\n"
     ]
    }
   ],
   "source": [
    "class Thing:\n",
    "    def __init__(self):\n",
    "        pass\n",
    "print(Thing)\n",
    "\n",
    "example = Thing()\n",
    "print(example)"
   ]
  },
  {
   "cell_type": "markdown",
   "id": "17d3098d",
   "metadata": {},
   "source": [
    "## 2. **Геометрические фигуры**\n",
    "\n",
    "Создайте класс **Shape**, его наследник **Rectangle** и его наследник **Square**. В **Shape** определите метод объекта **area**, возвращающий 0.\n",
    "\n",
    "Класс **Rectangle** принимает в качестве аргументов длину и ширину стороны прямоугольника и присваивает её своим атрибутам, соответственно, **length** и **width** в конструкторе. Класс **Square** принимает в качестве аргументов длину стороны квадрата и присваивает её своему атрибуту **length** в конструкторе.\n",
    "\n",
    "Все классы имеют метод **area**, возвращающий 0 в классе **Shape**, площадь прямоугольника в классе **Rectangle** и площадь квадрата в классе **Square**."
   ]
  },
  {
   "cell_type": "code",
   "execution_count": 14,
   "id": "d7dccaac",
   "metadata": {},
   "outputs": [
    {
     "name": "stdout",
     "output_type": "stream",
     "text": [
      "30\n",
      "25\n"
     ]
    }
   ],
   "source": [
    "class Shape:\n",
    "    def __init__(self):\n",
    "        pass\n",
    "    \n",
    "    def area(self):\n",
    "        return 0\n",
    "    \n",
    "class Rectangle(Shape):\n",
    "    def __init__(self, l, w):\n",
    "        self.length = int(l)\n",
    "        self.width = int(w)\n",
    "        \n",
    "    def area(self):\n",
    "        return self.length * self.width\n",
    "\n",
    "class Square(Rectangle):\n",
    "    def __init__(self, l):\n",
    "        self.length = l\n",
    "        \n",
    "    def area(self):\n",
    "        return self.length ** 2\n",
    "\n",
    "rectangle = Rectangle(5, 6)\n",
    "print(rectangle.area())\n",
    "\n",
    "square = Square(5)\n",
    "print(square.area())"
   ]
  },
  {
   "cell_type": "code",
   "execution_count": null,
   "id": "34cc011f",
   "metadata": {},
   "outputs": [],
   "source": []
  }
 ],
 "metadata": {
  "kernelspec": {
   "display_name": "Python 3 (ipykernel)",
   "language": "python",
   "name": "python3"
  },
  "language_info": {
   "codemirror_mode": {
    "name": "ipython",
    "version": 3
   },
   "file_extension": ".py",
   "mimetype": "text/x-python",
   "name": "python",
   "nbconvert_exporter": "python",
   "pygments_lexer": "ipython3",
   "version": "3.10.0"
  }
 },
 "nbformat": 4,
 "nbformat_minor": 5
}
