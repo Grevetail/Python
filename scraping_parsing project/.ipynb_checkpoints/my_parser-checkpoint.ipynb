{
 "cells": [
  {
   "cell_type": "code",
   "execution_count": 1,
   "id": "c458c2b0",
   "metadata": {},
   "outputs": [
    {
     "data": {
      "application/vnd.jupyter.widget-view+json": {
       "model_id": "e6221a9a1a40436dad60165f0a7611b6",
       "version_major": 2,
       "version_minor": 0
      },
      "text/plain": [
       "Прогресс парсинга страниц:   0%|          | 0/5 [00:00<?, ?it/s]"
      ]
     },
     "metadata": {},
     "output_type": "display_data"
    },
    {
     "name": "stdout",
     "output_type": "stream",
     "text": [
      "Успешно. Получено товаров: 95.\n",
      "Файл products.csv сохранён в корневой каталог проекта.\n"
     ]
    }
   ],
   "source": [
    "import requests, numpy, time, csv, os\n",
    "from config import URL, HOST\n",
    "from bs4 import BeautifulSoup\n",
    "from tqdm.notebook import tqdm_notebook\n",
    "\n",
    "HEADERS = {'user-agent': 'Mozilla/5.0 (Windows NT 10.0; Win64; x64) AppleWebKit/537.36 (KHTML, like Gecko) Chrome/94.0.4606.81 Safari/537.36', 'accept': '*/*'}\n",
    "FILE = 'products.csv'\n",
    "\n",
    "def get_html(url, params = None):\n",
    "    page = requests.get(url, headers = HEADERS, params = params)\n",
    "    return page\n",
    "\n",
    "def get_pages_count(html):\n",
    "    soup = BeautifulSoup(html, 'html.parser')\n",
    "    pagination = soup.find('div', class_='navigation').find_all('span')[-1].get_text()\n",
    "    return int(pagination)\n",
    "\n",
    "def get_content(html):\n",
    "    soup = BeautifulSoup(html, 'html.parser')\n",
    "    items = soup.find_all('div', class_ = 'item')\n",
    "    \n",
    "    products = []\n",
    "    for item in items:\n",
    "        name = item.find('div', class_ = 'name').get_text(strip = True)\n",
    "        products.append({\n",
    "            'key_shop': item.find('div', class_ = 'key').get_text().split(' ')[-1],\n",
    "            'type': item.find('div', class_ = 'type').get_text(strip = True),\n",
    "            'name': name,\n",
    "            'description': item.find('div', class_ = 'description').get_text(strip = True),\n",
    "            'price': int(item.find('div', class_ = 'new').get_text()[:-5].replace(' ','')),\n",
    "            'link': HOST + item.find('a', title = name).get('href') \n",
    "        })\n",
    "        \n",
    "    return products\n",
    "\n",
    "def save_file(items, path):\n",
    "    with open(path, 'w', newline = '') as file:\n",
    "        writer = csv.writer(file, delimiter = ';')\n",
    "        writer.writerow(['Артикул', 'Категория', 'Наименование', 'Описание', 'Цена в руб.', 'Ссылка'])\n",
    "        for item in items:\n",
    "            try:\n",
    "                writer.writerow([item['key_shop'], item['type'], item['name'], item['description'], item['price'], item['link']])\n",
    "            except UnicodeError:\n",
    "                writer.writerow([item['key_shop'], item['type'], item['name'], 'Описание уточняйте на сайте', item['price'], item['link']])\n",
    "            \n",
    "def parse():\n",
    "    html = get_html(URL)\n",
    "    #URL = input('Введите адрес каталога для парсинга: ').strip() or URL\n",
    "    if html.status_code == 200:\n",
    "        pages_count = get_pages_count(html.text)\n",
    "        products =[]\n",
    "        for page in tqdm_notebook(range(1, pages_count + 1), desc = 'Прогресс парсинга страниц: '):\n",
    "            html = get_html(URL, params={'list_page': page})\n",
    "            products.extend(get_content(html.text))\n",
    "            time.sleep(numpy.random.randint(1,2))\n",
    "        products = sorted(products, key=lambda x: x['price'])\n",
    "        \n",
    "        save_file(products, FILE)\n",
    "        print(f'Успешно. Получено товаров: {len(products)}.\\nФайл {FILE} сохранён в корневой каталог проекта.')\n",
    "    else:\n",
    "        print(f'\\033[31m Error: {URL} don\\'t request. Check your parametrs of \\'get_html\\' function.')\n",
    "\n",
    "parse()"
   ]
  },
  {
   "cell_type": "code",
   "execution_count": null,
   "id": "91fbe9d7",
   "metadata": {},
   "outputs": [],
   "source": []
  }
 ],
 "metadata": {
  "kernelspec": {
   "display_name": "Python 3 (ipykernel)",
   "language": "python",
   "name": "python3"
  },
  "language_info": {
   "codemirror_mode": {
    "name": "ipython",
    "version": 3
   },
   "file_extension": ".py",
   "mimetype": "text/x-python",
   "name": "python",
   "nbconvert_exporter": "python",
   "pygments_lexer": "ipython3",
   "version": "3.10.0"
  }
 },
 "nbformat": 4,
 "nbformat_minor": 5
}
