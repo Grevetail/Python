{
 "cells": [
  {
   "cell_type": "code",
   "execution_count": 1,
   "id": "07bbfdd4",
   "metadata": {},
   "outputs": [
    {
     "name": "stdout",
     "output_type": "stream",
     "text": [
      "True\n"
     ]
    }
   ],
   "source": [
    "original = ' Python strings are COOL! '\n",
    "lower_cased = original.lower()\n",
    "stripped = original.strip()\n",
    "stripped_lower_cased = original.strip().lower()\n",
    "\n",
    "ugly = ' tiTle of MY new Book\\n\\n'\n",
    "pretty = ugly.strip().title()\n",
    "\n",
    "\n",
    "verb = 'is'\n",
    "language = 'Python'\n",
    "punctuation = '!'\n",
    "do = 'Learning'\n",
    "how = 'fun'\n",
    "strIng = [do, language, verb, how, punctuation]\n",
    "sentence = ' '.join(strIng)\n",
    "m = len(sentence)\n",
    "sentence = sentence[:m-2] + sentence[m-1:]\n",
    "\n",
    "\n",
    "a = 2\n",
    "b = 3\n",
    "c = 2\n",
    "result = int(6 * a**3 - (8 * b**2) / (4 * c) + 11)\n",
    "\n",
    "print(round(0.1 + 0.2, 1) == 0.3)"
   ]
  },
  {
   "cell_type": "code",
   "execution_count": null,
   "id": "e0319f33",
   "metadata": {},
   "outputs": [],
   "source": []
  }
 ],
 "metadata": {
  "kernelspec": {
   "display_name": "Python 3 (ipykernel)",
   "language": "python",
   "name": "python3"
  },
  "language_info": {
   "codemirror_mode": {
    "name": "ipython",
    "version": 3
   },
   "file_extension": ".py",
   "mimetype": "text/x-python",
   "name": "python",
   "nbconvert_exporter": "python",
   "pygments_lexer": "ipython3",
   "version": "3.10.0"
  }
 },
 "nbformat": 4,
 "nbformat_minor": 5
}
