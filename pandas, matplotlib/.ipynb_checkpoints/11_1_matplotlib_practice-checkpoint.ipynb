{
 "cells": [
  {
   "cell_type": "code",
   "execution_count": null,
   "metadata": {},
   "outputs": [
    {
     "name": "stderr",
     "output_type": "stream",
     "text": [
      "\n",
      "    copying lib\\matplotlib\\mpl-data\\stylelib\\seaborn-talk.mplstyle -> build\\lib.win-amd64-3.10\\matplotlib\\mpl-data\\stylelib\n",
      "    copying lib\\matplotlib\\mpl-data\\fonts\\afm\\pplbi8a.afm -> build\\lib.win-amd64-3.10\\matplotlib\\mpl-data\\fonts\\afm\n",
      "    copying lib\\matplotlib\\mpl-data\\fonts\\pdfcorefonts\\Times-Roman.afm -> build\\lib.win-amd64-3.10\\matplotlib\\mpl-data\\fonts\\pdfcorefonts\n",
      "    copying lib\\matplotlib\\mpl-data\\stylelib\\fast.mplstyle -> build\\lib.win-amd64-3.10\\matplotlib\\mpl-data\\stylelib\n",
      "    copying lib\\matplotlib\\mpl-data\\fonts\\afm\\phvro8an.afm -> build\\lib.win-amd64-3.10\\matplotlib\\mpl-data\\fonts\\afm\n",
      "    copying lib\\matplotlib\\mpl-data\\fonts\\afm\\pbkl8a.afm -> build\\lib.win-amd64-3.10\\matplotlib\\mpl-data\\fonts\\afm\n",
      "    copying lib\\matplotlib\\mpl-data\\fonts\\pdfcorefonts\\Courier.afm -> build\\lib.win-amd64-3.10\\matplotlib\\mpl-data\\fonts\\pdfcorefonts\n",
      "    copying lib\\matplotlib\\mpl-data\\stylelib\\fivethirtyeight.mplstyle -> build\\lib.win-amd64-3.10\\matplotlib\\mpl-data\\stylelib\n",
      "    copying lib\\matplotlib\\mpl-data\\stylelib\\classic.mplstyle -> build\\lib.win-amd64-3.10\\matplotlib\\mpl-data\\stylelib\n",
      "    copying lib\\matplotlib\\mpl-data\\fonts\\ttf\\DejaVuSans.ttf -> build\\lib.win-amd64-3.10\\matplotlib\\mpl-data\\fonts\\ttf\n",
      "    copying lib\\matplotlib\\mpl-data\\fonts\\pdfcorefonts\\readme.txt -> build\\lib.win-amd64-3.10\\matplotlib\\mpl-data\\fonts\\pdfcorefonts\n",
      "    copying lib\\matplotlib\\mpl-data\\fonts\\ttf\\DejaVuSerif-BoldItalic.ttf -> build\\lib.win-amd64-3.10\\matplotlib\\mpl-data\\fonts\\ttf\n",
      "    copying lib\\matplotlib\\mpl-data\\stylelib\\seaborn-poster.mplstyle -> build\\lib.win-amd64-3.10\\matplotlib\\mpl-data\\stylelib\n",
      "    copying lib\\matplotlib\\mpl-data\\images\\subplots_large.png -> build\\lib.win-amd64-3.10\\matplotlib\\mpl-data\\images\n",
      "    copying lib\\matplotlib\\mpl-data\\stylelib\\seaborn-ticks.mplstyle -> build\\lib.win-amd64-3.10\\matplotlib\\mpl-data\\stylelib\n",
      "    copying lib\\matplotlib\\mpl-data\\fonts\\afm\\pncbi8a.afm -> build\\lib.win-amd64-3.10\\matplotlib\\mpl-data\\fonts\\afm\n",
      "    copying lib\\matplotlib\\mpl-data\\fonts\\ttf\\DejaVuSerif-Bold.ttf -> build\\lib.win-amd64-3.10\\matplotlib\\mpl-data\\fonts\\ttf\n",
      "    copying lib\\matplotlib\\mpl-data\\fonts\\afm\\phvr8an.afm -> build\\lib.win-amd64-3.10\\matplotlib\\mpl-data\\fonts\\afm\n",
      "    copying lib\\matplotlib\\mpl-data\\stylelib\\seaborn-whitegrid.mplstyle -> build\\lib.win-amd64-3.10\\matplotlib\\mpl-data\\stylelib\n",
      "    copying lib\\matplotlib\\mpl-data\\fonts\\ttf\\STIXSizThreeSymBol.ttf -> build\\lib.win-amd64-3.10\\matplotlib\\mpl-data\\fonts\\ttf\n",
      "    copying lib\\matplotlib\\backends\\web_backend\\js\\mpl_tornado.js -> build\\lib.win-amd64-3.10\\matplotlib\\backends\\web_backend\\js\n",
      "    copying lib\\matplotlib\\mpl-data\\matplotlibrc -> build\\lib.win-amd64-3.10\\matplotlib\\mpl-data\n",
      "    copying lib\\matplotlib\\backends\\web_backend\\.eslintrc.js -> build\\lib.win-amd64-3.10\\matplotlib\\backends\\web_backend\n",
      "    copying lib\\matplotlib\\mpl-data\\fonts\\afm\\cmsy10.afm -> build\\lib.win-amd64-3.10\\matplotlib\\mpl-data\\fonts\\afm\n",
      "    creating build\\lib.win-amd64-3.10\\matplotlib\\mpl-data\\sample_data\\axes_grid\n",
      "    copying lib\\matplotlib\\mpl-data\\sample_data\\axes_grid\\bivariate_normal.npy -> build\\lib.win-amd64-3.10\\matplotlib\\mpl-data\\sample_data\\axes_grid\n",
      "    copying lib\\matplotlib\\mpl-data\\sample_data\\logo2.png -> build\\lib.win-amd64-3.10\\matplotlib\\mpl-data\\sample_data\n",
      "    copying lib\\matplotlib\\mpl-data\\fonts\\afm\\putb8a.afm -> build\\lib.win-amd64-3.10\\matplotlib\\mpl-data\\fonts\\afm\n",
      "    copying lib\\matplotlib\\mpl-data\\fonts\\afm\\pagdo8a.afm -> build\\lib.win-amd64-3.10\\matplotlib\\mpl-data\\fonts\\afm\n",
      "    copying lib\\matplotlib\\mpl-data\\fonts\\ttf\\cmss10.ttf -> build\\lib.win-amd64-3.10\\matplotlib\\mpl-data\\fonts\\ttf\n",
      "    copying lib\\matplotlib\\mpl-data\\fonts\\ttf\\STIXGeneralBol.ttf -> build\\lib.win-amd64-3.10\\matplotlib\\mpl-data\\fonts\\ttf\n",
      "    copying lib\\matplotlib\\mpl-data\\stylelib\\dark_background.mplstyle -> build\\lib.win-amd64-3.10\\matplotlib\\mpl-data\\stylelib\n",
      "    copying lib\\matplotlib\\mpl-data\\stylelib\\bmh.mplstyle -> build\\lib.win-amd64-3.10\\matplotlib\\mpl-data\\stylelib\n",
      "    copying lib\\matplotlib\\mpl-data\\fonts\\ttf\\DejaVuSerifDisplay.ttf -> build\\lib.win-amd64-3.10\\matplotlib\\mpl-data\\fonts\\ttf\n",
      "    copying lib\\matplotlib\\mpl-data\\sample_data\\README.txt -> build\\lib.win-amd64-3.10\\matplotlib\\mpl-data\\sample_data\n",
      "    copying lib\\matplotlib\\mpl-data\\images\\matplotlib.pdf -> build\\lib.win-amd64-3.10\\matplotlib\\mpl-data\\images\n",
      "    copying lib\\matplotlib\\mpl-data\\fonts\\afm\\pcrbo8a.afm -> build\\lib.win-amd64-3.10\\matplotlib\\mpl-data\\fonts\\afm\n",
      "    copying lib\\matplotlib\\mpl-data\\fonts\\pdfcorefonts\\Courier-Oblique.afm -> build\\lib.win-amd64-3.10\\matplotlib\\mpl-data\\fonts\\pdfcorefonts\n",
      "    copying lib\\matplotlib\\mpl-data\\fonts\\ttf\\DejaVuSans-Oblique.ttf -> build\\lib.win-amd64-3.10\\matplotlib\\mpl-data\\fonts\\ttf\n",
      "    copying lib\\matplotlib\\backends\\web_backend\\css\\fbm.css -> build\\lib.win-amd64-3.10\\matplotlib\\backends\\web_backend\\css\n",
      "    copying lib\\matplotlib\\mpl-data\\fonts\\afm\\pcrr8a.afm -> build\\lib.win-amd64-3.10\\matplotlib\\mpl-data\\fonts\\afm\n",
      "    copying lib\\matplotlib\\mpl-data\\fonts\\ttf\\cmmi10.ttf -> build\\lib.win-amd64-3.10\\matplotlib\\mpl-data\\fonts\\ttf\n",
      "    copying lib\\matplotlib\\mpl-data\\fonts\\ttf\\DejaVuSansDisplay.ttf -> build\\lib.win-amd64-3.10\\matplotlib\\mpl-data\\fonts\\ttf\n",
      "    copying lib\\matplotlib\\mpl-data\\images\\filesave_large.png -> build\\lib.win-amd64-3.10\\matplotlib\\mpl-data\\images\n",
      "    copying lib\\matplotlib\\mpl-data\\sample_data\\s1045.ima.gz -> build\\lib.win-amd64-3.10\\matplotlib\\mpl-data\\sample_data\n",
      "    copying lib\\matplotlib\\mpl-data\\fonts\\afm\\pncr8a.afm -> build\\lib.win-amd64-3.10\\matplotlib\\mpl-data\\fonts\\afm\n",
      "    copying lib\\matplotlib\\mpl-data\\fonts\\afm\\pagd8a.afm -> build\\lib.win-amd64-3.10\\matplotlib\\mpl-data\\fonts\\afm\n",
      "    copying lib\\matplotlib\\mpl-data\\fonts\\ttf\\STIXGeneralBolIta.ttf -> build\\lib.win-amd64-3.10\\matplotlib\\mpl-data\\fonts\\ttf\n",
      "    copying lib\\matplotlib\\mpl-data\\fonts\\ttf\\STIXNonUniBolIta.ttf -> build\\lib.win-amd64-3.10\\matplotlib\\mpl-data\\fonts\\ttf\n",
      "    copying lib\\matplotlib\\mpl-data\\images\\hand.pdf -> build\\lib.win-amd64-3.10\\matplotlib\\mpl-data\\images\n",
      "    copying lib\\matplotlib\\mpl-data\\sample_data\\membrane.dat -> build\\lib.win-amd64-3.10\\matplotlib\\mpl-data\\sample_data\n",
      "    copying lib\\matplotlib\\mpl-data\\fonts\\afm\\phvbo8a.afm -> build\\lib.win-amd64-3.10\\matplotlib\\mpl-data\\fonts\\afm\n",
      "    copying lib\\matplotlib\\mpl-data\\images\\home.svg -> build\\lib.win-amd64-3.10\\matplotlib\\mpl-data\\images\n",
      "    copying lib\\matplotlib\\mpl-data\\stylelib\\seaborn-white.mplstyle -> build\\lib.win-amd64-3.10\\matplotlib\\mpl-data\\stylelib\n",
      "    copying lib\\matplotlib\\mpl-data\\fonts\\afm\\pcrb8a.afm -> build\\lib.win-amd64-3.10\\matplotlib\\mpl-data\\fonts\\afm\n",
      "    copying lib\\matplotlib\\backends\\web_backend\\package.json -> build\\lib.win-amd64-3.10\\matplotlib\\backends\\web_backend\n",
      "    copying lib\\matplotlib\\mpl-data\\fonts\\pdfcorefonts\\Helvetica-Bold.afm -> build\\lib.win-amd64-3.10\\matplotlib\\mpl-data\\fonts\\pdfcorefonts\n",
      "    copying lib\\matplotlib\\mpl-data\\stylelib\\grayscale.mplstyle -> build\\lib.win-amd64-3.10\\matplotlib\\mpl-data\\stylelib\n",
      "    copying lib\\matplotlib\\mpl-data\\fonts\\afm\\phvb8an.afm -> build\\lib.win-amd64-3.10\\matplotlib\\mpl-data\\fonts\\afm\n",
      "    copying lib\\matplotlib\\mpl-data\\images\\filesave.png -> build\\lib.win-amd64-3.10\\matplotlib\\mpl-data\\images\n",
      "    copying lib\\matplotlib\\mpl-data\\fonts\\afm\\pplr8a.afm -> build\\lib.win-amd64-3.10\\matplotlib\\mpl-data\\fonts\\afm\n",
      "    copying lib\\matplotlib\\mpl-data\\stylelib\\ggplot.mplstyle -> build\\lib.win-amd64-3.10\\matplotlib\\mpl-data\\stylelib\n",
      "    copying lib\\matplotlib\\mpl-data\\images\\help-symbolic.svg -> build\\lib.win-amd64-3.10\\matplotlib\\mpl-data\\images\n",
      "    copying lib\\matplotlib\\mpl-data\\fonts\\pdfcorefonts\\Times-BoldItalic.afm -> build\\lib.win-amd64-3.10\\matplotlib\\mpl-data\\fonts\\pdfcorefonts\n",
      "    copying lib\\matplotlib\\mpl-data\\fonts\\ttf\\STIXGeneralItalic.ttf -> build\\lib.win-amd64-3.10\\matplotlib\\mpl-data\\fonts\\ttf\n",
      "    copying lib\\matplotlib\\mpl-data\\fonts\\ttf\\STIXNonUni.ttf -> build\\lib.win-amd64-3.10\\matplotlib\\mpl-data\\fonts\\ttf\n",
      "    copying lib\\matplotlib\\mpl-data\\sample_data\\goog.npz -> build\\lib.win-amd64-3.10\\matplotlib\\mpl-data\\sample_data\n",
      "    copying lib\\matplotlib\\mpl-data\\images\\filesave.svg -> build\\lib.win-amd64-3.10\\matplotlib\\mpl-data\\images\n",
      "    copying lib\\matplotlib\\backends\\web_backend\\single_figure.html -> build\\lib.win-amd64-3.10\\matplotlib\\backends\\web_backend\n",
      "    copying lib\\matplotlib\\mpl-data\\fonts\\ttf\\LICENSE_STIX -> build\\lib.win-amd64-3.10\\matplotlib\\mpl-data\\fonts\\ttf\n",
      "    copying lib\\matplotlib\\mpl-data\\fonts\\afm\\putr8a.afm -> build\\lib.win-amd64-3.10\\matplotlib\\mpl-data\\fonts\\afm\n",
      "    copying lib\\matplotlib\\mpl-data\\fonts\\afm\\cmmi10.afm -> build\\lib.win-amd64-3.10\\matplotlib\\mpl-data\\fonts\\afm\n",
      "    copying lib\\matplotlib\\mpl-data\\images\\help_large.png -> build\\lib.win-amd64-3.10\\matplotlib\\mpl-data\\images\n",
      "    copying lib\\matplotlib\\backends\\web_backend\\nbagg_uat.ipynb -> build\\lib.win-amd64-3.10\\matplotlib\\backends\\web_backend\n",
      "    copying lib\\matplotlib\\mpl-data\\stylelib\\tableau-colorblind10.mplstyle -> build\\lib.win-amd64-3.10\\matplotlib\\mpl-data\\stylelib\n",
      "    copying lib\\matplotlib\\mpl-data\\fonts\\ttf\\STIXSizTwoSymReg.ttf -> build\\lib.win-amd64-3.10\\matplotlib\\mpl-data\\fonts\\ttf\n",
      "    copying lib\\matplotlib\\mpl-data\\fonts\\ttf\\cmex10.ttf -> build\\lib.win-amd64-3.10\\matplotlib\\mpl-data\\fonts\\ttf\n",
      "    copying lib\\matplotlib\\mpl-data\\fonts\\ttf\\STIXNonUniIta.ttf -> build\\lib.win-amd64-3.10\\matplotlib\\mpl-data\\fonts\\ttf\n",
      "    copying lib\\matplotlib\\mpl-data\\images\\move-symbolic.svg -> build\\lib.win-amd64-3.10\\matplotlib\\mpl-data\\images\n",
      "    copying lib\\matplotlib\\mpl-data\\fonts\\afm\\pzcmi8a.afm -> build\\lib.win-amd64-3.10\\matplotlib\\mpl-data\\fonts\\afm\n",
      "    copying lib\\matplotlib\\mpl-data\\fonts\\afm\\pcrro8a.afm -> build\\lib.win-amd64-3.10\\matplotlib\\mpl-data\\fonts\\afm\n",
      "    copying lib\\matplotlib\\mpl-data\\fonts\\afm\\cmr10.afm -> build\\lib.win-amd64-3.10\\matplotlib\\mpl-data\\fonts\\afm\n",
      "    copying lib\\matplotlib\\mpl-data\\stylelib\\Solarize_Light2.mplstyle -> build\\lib.win-amd64-3.10\\matplotlib\\mpl-data\\stylelib\n",
      "    copying lib\\matplotlib\\mpl-data\\fonts\\afm\\phvro8a.afm -> build\\lib.win-amd64-3.10\\matplotlib\\mpl-data\\fonts\\afm\n",
      "    copying lib\\matplotlib\\mpl-data\\images\\qt4_editor_options.png -> build\\lib.win-amd64-3.10\\matplotlib\\mpl-data\\images\n",
      "    copying lib\\matplotlib\\mpl-data\\fonts\\afm\\pplb8a.afm -> build\\lib.win-amd64-3.10\\matplotlib\\mpl-data\\fonts\\afm\n",
      "    copying lib\\matplotlib\\mpl-data\\fonts\\afm\\ptmbi8a.afm -> build\\lib.win-amd64-3.10\\matplotlib\\mpl-data\\fonts\\afm\n",
      "    copying lib\\matplotlib\\mpl-data\\fonts\\afm\\pzdr.afm -> build\\lib.win-amd64-3.10\\matplotlib\\mpl-data\\fonts\\afm\n",
      "    copying lib\\matplotlib\\mpl-data\\fonts\\afm\\cmex10.afm -> build\\lib.win-amd64-3.10\\matplotlib\\mpl-data\\fonts\\afm\n",
      "    copying lib\\matplotlib\\mpl-data\\fonts\\ttf\\STIXSizThreeSymReg.ttf -> build\\lib.win-amd64-3.10\\matplotlib\\mpl-data\\fonts\\ttf\n",
      "    copying lib\\matplotlib\\mpl-data\\images\\filesave-symbolic.svg -> build\\lib.win-amd64-3.10\\matplotlib\\mpl-data\\images\n",
      "    copying lib\\matplotlib\\mpl-data\\images\\zoom_to_rect.svg -> build\\lib.win-amd64-3.10\\matplotlib\\mpl-data\\images\n",
      "    copying lib\\matplotlib\\mpl-data\\images\\help.png -> build\\lib.win-amd64-3.10\\matplotlib\\mpl-data\\images\n",
      "    copying lib\\matplotlib\\backends\\web_backend\\.prettierrc -> build\\lib.win-amd64-3.10\\matplotlib\\backends\\web_backend\n",
      "    copying lib\\matplotlib\\mpl-data\\fonts\\afm\\ptmri8a.afm -> build\\lib.win-amd64-3.10\\matplotlib\\mpl-data\\fonts\\afm\n",
      "    copying lib\\matplotlib\\mpl-data\\fonts\\pdfcorefonts\\Helvetica-BoldOblique.afm -> build\\lib.win-amd64-3.10\\matplotlib\\mpl-data\\fonts\\pdfcorefonts\n",
      "    copying lib\\matplotlib\\mpl-data\\fonts\\ttf\\STIXSizOneSymReg.ttf -> build\\lib.win-amd64-3.10\\matplotlib\\mpl-data\\fonts\\ttf\n",
      "    copying lib\\matplotlib\\mpl-data\\fonts\\pdfcorefonts\\Symbol.afm -> build\\lib.win-amd64-3.10\\matplotlib\\mpl-data\\fonts\\pdfcorefonts\n",
      "    copying lib\\matplotlib\\mpl-data\\images\\home.pdf -> build\\lib.win-amd64-3.10\\matplotlib\\mpl-data\\images\n",
      "    copying lib\\matplotlib\\mpl-data\\images\\subplots-symbolic.svg -> build\\lib.win-amd64-3.10\\matplotlib\\mpl-data\\images\n",
      "    copying lib\\matplotlib\\mpl-data\\fonts\\pdfcorefonts\\Times-Italic.afm -> build\\lib.win-amd64-3.10\\matplotlib\\mpl-data\\fonts\\pdfcorefonts\n",
      "    copying lib\\matplotlib\\mpl-data\\fonts\\afm\\putbi8a.afm -> build\\lib.win-amd64-3.10\\matplotlib\\mpl-data\\fonts\\afm\n",
      "    copying lib\\matplotlib\\mpl-data\\images\\qt4_editor_options_large.png -> build\\lib.win-amd64-3.10\\matplotlib\\mpl-data\\images\n",
      "    copying lib\\matplotlib\\mpl-data\\images\\matplotlib.svg -> build\\lib.win-amd64-3.10\\matplotlib\\mpl-data\\images\n",
      "    copying lib\\matplotlib\\backends\\web_backend\\css\\boilerplate.css -> build\\lib.win-amd64-3.10\\matplotlib\\backends\\web_backend\\css\n",
      "    UPDATING build\\lib.win-amd64-3.10\\matplotlib\\_version.py\n",
      "    set build\\lib.win-amd64-3.10\\matplotlib\\_version.py to '3.4.3'\n",
      "    running build_ext\n",
      "    error: Microsoft Visual C++ 14.0 or greater is required. Get it with \"Microsoft C++ Build Tools\": https://visualstudio.microsoft.com/visual-cpp-build-tools/\n",
      "    Building freetype in build\\freetype-2.6.1\n",
      "    ----------------------------------------\n",
      "ERROR: Command errored out with exit status 1: 'C:\\Users\\beaut\\AppData\\Local\\Programs\\Python\\Python310\\python.exe' -u -c 'import io, os, sys, setuptools, tokenize; sys.argv[0] = '\"'\"'C:\\\\Users\\\\beaut\\\\AppData\\\\Local\\\\Temp\\\\pip-install-aan2a7tn\\\\matplotlib_1631502ac3c6458682144049c04c23cf\\\\setup.py'\"'\"'; __file__='\"'\"'C:\\\\Users\\\\beaut\\\\AppData\\\\Local\\\\Temp\\\\pip-install-aan2a7tn\\\\matplotlib_1631502ac3c6458682144049c04c23cf\\\\setup.py'\"'\"';f = getattr(tokenize, '\"'\"'open'\"'\"', open)(__file__) if os.path.exists(__file__) else io.StringIO('\"'\"'from setuptools import setup; setup()'\"'\"');code = f.read().replace('\"'\"'\\r\\n'\"'\"', '\"'\"'\\n'\"'\"');f.close();exec(compile(code, __file__, '\"'\"'exec'\"'\"'))' install --record 'C:\\Users\\beaut\\AppData\\Local\\Temp\\pip-record-ih83abwf\\install-record.txt' --single-version-externally-managed --compile --install-headers 'C:\\Users\\beaut\\AppData\\Local\\Programs\\Python\\Python310\\Include\\matplotlib' Check the logs for full command output.\n",
      "WARNING: You are using pip version 21.3; however, version 21.3.1 is available.\n",
      "You should consider upgrading via the 'C:\\Users\\beaut\\AppData\\Local\\Programs\\Python\\Python310\\python.exe -m pip install --upgrade pip' command.\n"
     ]
    }
   ],
   "source": [
    "!pip install matplotlib"
   ]
  },
  {
   "cell_type": "code",
   "execution_count": 5,
   "metadata": {},
   "outputs": [
    {
     "ename": "ModuleNotFoundError",
     "evalue": "No module named 'matplotlib'",
     "output_type": "error",
     "traceback": [
      "\u001b[1;31m---------------------------------------------------------------------------\u001b[0m",
      "\u001b[1;31mModuleNotFoundError\u001b[0m                       Traceback (most recent call last)",
      "\u001b[1;32m~\\AppData\\Local\\Temp/ipykernel_3068/1492400551.py\u001b[0m in \u001b[0;36m<module>\u001b[1;34m\u001b[0m\n\u001b[0;32m      1\u001b[0m \u001b[1;32mimport\u001b[0m \u001b[0mpandas\u001b[0m \u001b[1;32mas\u001b[0m \u001b[0mpd\u001b[0m\u001b[1;33m\u001b[0m\u001b[1;33m\u001b[0m\u001b[0m\n\u001b[1;32m----> 2\u001b[1;33m \u001b[1;32mimport\u001b[0m \u001b[0mmatplotlib\u001b[0m\u001b[1;33m.\u001b[0m\u001b[0mpyplot\u001b[0m \u001b[1;32mas\u001b[0m \u001b[0mplt\u001b[0m\u001b[1;33m\u001b[0m\u001b[1;33m\u001b[0m\u001b[0m\n\u001b[0m",
      "\u001b[1;31mModuleNotFoundError\u001b[0m: No module named 'matplotlib'"
     ]
    }
   ],
   "source": [
    "import pandas as pd\n",
    "import matplotlib.pyplot as plt"
   ]
  },
  {
   "cell_type": "markdown",
   "metadata": {},
   "source": [
    "# Pandas + matplotlib\n",
    "Замените пропуски ____ в блоках кода ниже, чтобы считать из excel-файла (не забудьте его скачать по ссылке в Notion!) информацию и добавить её в DataFrame.\n",
    "\n",
    "Затем выведите информацию о первых пяти шахтах в виде столбцовой диаграммы."
   ]
  },
  {
   "cell_type": "code",
   "execution_count": null,
   "metadata": {},
   "outputs": [],
   "source": [
    "df = pd.read_excel(r'data_pandas\\mining.xlsx')\n",
    "# посмотрим на первые 10 строк\n",
    "df.head(10)"
   ]
  },
  {
   "cell_type": "code",
   "execution_count": null,
   "metadata": {},
   "outputs": [],
   "source": [
    "# выведите информацию о вашей таблице\n",
    "df.____()\n",
    "# заметьте, что последний столбец считался как \"object\"\n",
    "# т.к. в нём стоят числа чере запятую"
   ]
  },
  {
   "cell_type": "code",
   "execution_count": null,
   "metadata": {},
   "outputs": [],
   "source": [
    "# вспоминайте, что за функция строит графики в matplotlib и умеет делать это сразу для DataFrame'ов из Pandas\n",
    "df.head(5).____(kind='bar', x = \"Mine_Name\", y=\"Production\", figsize=(20,8))"
   ]
  },
  {
   "cell_type": "markdown",
   "metadata": {},
   "source": [
    "# Постройте два графика\n",
    "Замените пропуски ____ в блоках кода ниже, чтобы построить два кусочно-линейных графика по точкам из списков `x1, y1` и `x2, y2`.\n",
    "Первый - обычный кусочно-линейный график синего цвета.\n",
    "Второй - кусочно-линейный график с синими маркерами и красной пунктирной линией."
   ]
  },
  {
   "cell_type": "code",
   "execution_count": null,
   "metadata": {},
   "outputs": [],
   "source": [
    "x1 = [10,20,30]\n",
    "y1 = [20,40,10]\n",
    "\n",
    "x2 = [10,20,30]\n",
    "y2 = [40,10,30]\n",
    "\n",
    "# синего цвета\n",
    "plt.plot(x1,y1, color=____, linewidth = 3)\n",
    "\n",
    "# красного цвета с синими маркерами\n",
    "plt.plot(x2,y2, color=____, \n",
    "         linestyle='dashdot', linewidth = 3,\n",
    "         marker='o', markerfacecolor='blue', markersize=12)\n",
    "\n",
    "\n",
    "# что за команда позволяет вывести график?\n",
    "plt.____()"
   ]
  }
 ],
 "metadata": {
  "kernelspec": {
   "display_name": "Python 3 (ipykernel)",
   "language": "python",
   "name": "python3"
  },
  "language_info": {
   "codemirror_mode": {
    "name": "ipython",
    "version": 3
   },
   "file_extension": ".py",
   "mimetype": "text/x-python",
   "name": "python",
   "nbconvert_exporter": "python",
   "pygments_lexer": "ipython3",
   "version": "3.10.0"
  }
 },
 "nbformat": 4,
 "nbformat_minor": 4
}
