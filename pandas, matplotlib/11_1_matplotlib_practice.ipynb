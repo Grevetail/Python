{
 "cells": [
  {
   "cell_type": "code",
   "execution_count": null,
   "metadata": {},
   "outputs": [],
   "source": [
    "!pip install matplotlib"
   ]
  },
  {
   "cell_type": "code",
   "execution_count": 8,
   "metadata": {},
   "outputs": [
    {
     "ename": "ModuleNotFoundError",
     "evalue": "No module named 'matplotlib'",
     "output_type": "error",
     "traceback": [
      "\u001b[1;31m---------------------------------------------------------------------------\u001b[0m",
      "\u001b[1;31mModuleNotFoundError\u001b[0m                       Traceback (most recent call last)",
      "\u001b[1;32m~\\AppData\\Local\\Temp/ipykernel_3068/1492400551.py\u001b[0m in \u001b[0;36m<module>\u001b[1;34m\u001b[0m\n\u001b[0;32m      1\u001b[0m \u001b[1;32mimport\u001b[0m \u001b[0mpandas\u001b[0m \u001b[1;32mas\u001b[0m \u001b[0mpd\u001b[0m\u001b[1;33m\u001b[0m\u001b[1;33m\u001b[0m\u001b[0m\n\u001b[1;32m----> 2\u001b[1;33m \u001b[1;32mimport\u001b[0m \u001b[0mmatplotlib\u001b[0m\u001b[1;33m.\u001b[0m\u001b[0mpyplot\u001b[0m \u001b[1;32mas\u001b[0m \u001b[0mplt\u001b[0m\u001b[1;33m\u001b[0m\u001b[1;33m\u001b[0m\u001b[0m\n\u001b[0m",
      "\u001b[1;31mModuleNotFoundError\u001b[0m: No module named 'matplotlib'"
     ]
    }
   ],
   "source": [
    "import pandas as pd\n",
    "import matplotlib.pyplot as plt"
   ]
  },
  {
   "cell_type": "markdown",
   "metadata": {},
   "source": [
    "# Pandas + matplotlib\n",
    "Замените пропуски ____ в блоках кода ниже, чтобы считать из excel-файла (не забудьте его скачать по ссылке в Notion!) информацию и добавить её в DataFrame.\n",
    "\n",
    "Затем выведите информацию о первых пяти шахтах в виде столбцовой диаграммы."
   ]
  },
  {
   "cell_type": "code",
   "execution_count": null,
   "metadata": {},
   "outputs": [],
   "source": [
    "df = pd.read_excel(r'data_pandas\\mining.xlsx')\n",
    "# посмотрим на первые 10 строк\n",
    "df.head(10)"
   ]
  },
  {
   "cell_type": "code",
   "execution_count": null,
   "metadata": {},
   "outputs": [],
   "source": [
    "# выведите информацию о вашей таблице\n",
    "df.____()\n",
    "# заметьте, что последний столбец считался как \"object\"\n",
    "# т.к. в нём стоят числа чере запятую"
   ]
  },
  {
   "cell_type": "code",
   "execution_count": null,
   "metadata": {},
   "outputs": [],
   "source": [
    "# вспоминайте, что за функция строит графики в matplotlib и умеет делать это сразу для DataFrame'ов из Pandas\n",
    "df.head(5).____(kind='bar', x = \"Mine_Name\", y=\"Production\", figsize=(20,8))"
   ]
  },
  {
   "cell_type": "markdown",
   "metadata": {},
   "source": [
    "# Постройте два графика\n",
    "Замените пропуски ____ в блоках кода ниже, чтобы построить два кусочно-линейных графика по точкам из списков `x1, y1` и `x2, y2`.\n",
    "Первый - обычный кусочно-линейный график синего цвета.\n",
    "Второй - кусочно-линейный график с синими маркерами и красной пунктирной линией."
   ]
  },
  {
   "cell_type": "code",
   "execution_count": null,
   "metadata": {},
   "outputs": [],
   "source": [
    "x1 = [10,20,30]\n",
    "y1 = [20,40,10]\n",
    "\n",
    "x2 = [10,20,30]\n",
    "y2 = [40,10,30]\n",
    "\n",
    "# синего цвета\n",
    "plt.plot(x1,y1, color=____, linewidth = 3)\n",
    "\n",
    "# красного цвета с синими маркерами\n",
    "plt.plot(x2,y2, color=____, \n",
    "         linestyle='dashdot', linewidth = 3,\n",
    "         marker='o', markerfacecolor='blue', markersize=12)\n",
    "\n",
    "\n",
    "# что за команда позволяет вывести график?\n",
    "plt.____()"
   ]
  }
 ],
 "metadata": {
  "kernelspec": {
   "display_name": "Python 3 (ipykernel)",
   "language": "python",
   "name": "python3"
  },
  "language_info": {
   "codemirror_mode": {
    "name": "ipython",
    "version": 3
   },
   "file_extension": ".py",
   "mimetype": "text/x-python",
   "name": "python",
   "nbconvert_exporter": "python",
   "pygments_lexer": "ipython3",
   "version": "3.10.0"
  }
 },
 "nbformat": 4,
 "nbformat_minor": 4
}
