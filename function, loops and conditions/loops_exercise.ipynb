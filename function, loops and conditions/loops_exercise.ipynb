{
 "cells": [
  {
   "cell_type": "code",
   "execution_count": 2,
   "id": "9649a978",
   "metadata": {},
   "outputs": [
    {
     "name": "stdout",
     "output_type": "stream",
     "text": [
      "['PYTHON', 'JOHN', 'DOE']\n"
     ]
    }
   ],
   "source": [
    "words = ['PYTHON', 'JOHN', 'chEEse', 'hAm', 'DOE', '123']\n",
    "upper_case_words = []\n",
    "\n",
    "for item in words:\n",
    "    if item.isupper():\n",
    "        upper_case_words.append(item)\n",
    "\n",
    "print(upper_case_words)\n",
    "\n",
    "# проверим\n",
    "assert upper_case_words == ['PYTHON', 'JOHN', 'DOE']"
   ]
  },
  {
   "cell_type": "code",
   "execution_count": 19,
   "id": "c2273e84",
   "metadata": {},
   "outputs": [
    {
     "name": "stdout",
     "output_type": "stream",
     "text": [
      "100.0\n"
     ]
    }
   ],
   "source": [
    "magic_dict = dict(val1=44, val2='secret value', val3=55.0, val4=1)\n",
    "\n",
    "# Ваше решение\n",
    "summ = 0\n",
    "for value in magic_dict.values():\n",
    "    if type(value) == int or type(value) == float:\n",
    "        summ += value\n",
    "    \n",
    "sum_of_values = summ\n",
    "print(sum_of_values)\n",
    "\n",
    "# Проверим\n",
    "assert sum_of_values == 100"
   ]
  },
  {
   "cell_type": "code",
   "execution_count": 35,
   "id": "f9723b88",
   "metadata": {},
   "outputs": [
    {
     "name": "stdout",
     "output_type": "stream",
     "text": [
      "['odd', 'odd', 'even', 'even', 'odd', 'five even', 'five even', 'five odd']\n"
     ]
    }
   ],
   "source": [
    "numbers = [1, 3, 4, 6, 81, 80, 100, 95]\n",
    "\n",
    "# Ваше решение\n",
    "my_list = []\n",
    "\n",
    "for i in range(len(numbers)):\n",
    "    if numbers[i] % 5 == 0 and numbers[i] % 2 != 0:\n",
    "        my_list.append('five odd')\n",
    "    elif numbers[i] % 5 == 0 and numbers[i] % 2 == 0:\n",
    "        my_list.append('five even')\n",
    "    elif numbers[i] % 2 != 0:\n",
    "        my_list.append('odd')\n",
    "    else:\n",
    "        my_list.append('even')\n",
    "\n",
    "print(my_list)\n",
    "\n",
    "# проверим\n",
    "assert my_list == ['odd', 'odd', 'even', 'even', 'odd', 'five even', 'five even', 'five odd']"
   ]
  },
  {
   "cell_type": "code",
   "execution_count": null,
   "id": "2a0b4646",
   "metadata": {},
   "outputs": [],
   "source": []
  }
 ],
 "metadata": {
  "kernelspec": {
   "display_name": "Python 3 (ipykernel)",
   "language": "python",
   "name": "python3"
  },
  "language_info": {
   "codemirror_mode": {
    "name": "ipython",
    "version": 3
   },
   "file_extension": ".py",
   "mimetype": "text/x-python",
   "name": "python",
   "nbconvert_exporter": "python",
   "pygments_lexer": "ipython3",
   "version": "3.10.0"
  }
 },
 "nbformat": 4,
 "nbformat_minor": 5
}
