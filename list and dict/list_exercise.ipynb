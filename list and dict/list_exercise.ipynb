{
 "cells": [
  {
   "cell_type": "code",
   "execution_count": 5,
   "id": "f3d86a10",
   "metadata": {},
   "outputs": [],
   "source": [
    "# Создайте пустой список\n",
    "my_list = []\n",
    "\n",
    "# И добавьте в него значения\n",
    "my_list.append('Python')\n",
    "my_list.append('is ok')\n",
    "my_list.append('sometimes')\n",
    "\n",
    "# Удалите из него 'sometimes'\n",
    "my_list.remove('sometimes')\n",
    "\n",
    "# Измените второй элемент списка\n",
    "my_list[1] = 'is neat'\n",
    "\n",
    "\n",
    "# проверим результат\n",
    "assert my_list == ['Python', 'is neat']"
   ]
  },
  {
   "cell_type": "code",
   "execution_count": 9,
   "id": "b67b5c24",
   "metadata": {},
   "outputs": [],
   "source": [
    "original = ['I', 'am', 'learning', 'hacking', 'in']\n",
    "\n",
    "# Ваше решение\n",
    "modified = []\n",
    "modified.extend(original)\n",
    "modified[3] = 'lists'\n",
    "modified.append('Python')\n",
    "\n",
    "# проверим результат\n",
    "assert original == ['I', 'am', 'learning', 'hacking', 'in']\n",
    "assert modified == ['I', 'am', 'learning', 'lists', 'in', 'Python']"
   ]
  },
  {
   "cell_type": "code",
   "execution_count": 10,
   "id": "b2e746a7",
   "metadata": {},
   "outputs": [
    {
     "name": "stdout",
     "output_type": "stream",
     "text": [
      "[14, 12, 6.2, 6, 5, 1, 0.9, 0]\n"
     ]
    }
   ],
   "source": [
    "list1 = [6, 12, 5]\n",
    "list2 = [6.2, 0, 14, 1]\n",
    "list3 = [0.9]\n",
    "\n",
    "# Ваше решение\n",
    "my_list = []\n",
    "my_list.extend(list1)\n",
    "my_list.extend(list2)\n",
    "my_list.extend(list3)\n",
    "my_list.sort(reverse=True)\n",
    "\n",
    "# проверим результат\n",
    "print(my_list)\n",
    "assert my_list == [14, 12, 6.2, 6, 5, 1, 0.9, 0]"
   ]
  },
  {
   "cell_type": "code",
   "execution_count": null,
   "id": "5f6ad4a3",
   "metadata": {},
   "outputs": [],
   "source": []
  }
 ],
 "metadata": {
  "kernelspec": {
   "display_name": "Python 3 (ipykernel)",
   "language": "python",
   "name": "python3"
  },
  "language_info": {
   "codemirror_mode": {
    "name": "ipython",
    "version": 3
   },
   "file_extension": ".py",
   "mimetype": "text/x-python",
   "name": "python",
   "nbconvert_exporter": "python",
   "pygments_lexer": "ipython3",
   "version": "3.10.0"
  }
 },
 "nbformat": 4,
 "nbformat_minor": 5
}
