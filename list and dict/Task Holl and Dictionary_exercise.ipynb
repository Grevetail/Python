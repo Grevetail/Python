{
 "cells": [
  {
   "cell_type": "code",
   "execution_count": 12,
   "id": "512209a4",
   "metadata": {},
   "outputs": [
    {
     "name": "stdout",
     "output_type": "stream",
     "text": [
      "Всего циклов 10000\n",
      "Выйгрышей без смены первоначально выбранной двери: 1717\n",
      "Выйгрышей со сменой первоначально выбранной двери: 3332\n"
     ]
    }
   ],
   "source": [
    "import random\n",
    "\n",
    "n = 3\n",
    "\n",
    "list_door = list(range(0, n, 1))\n",
    "win_with_first_change = 0\n",
    "win_without_first_change = 0\n",
    "\n",
    "def random_choice(x):\n",
    "    return random.choice(x)\n",
    "\n",
    "for _ in range(10000):\n",
    "    num_door_auto = random_choice(list_door)\n",
    "    num_first_choice = random_choice(list_door)\n",
    "\n",
    "    if num_first_choice != num_door_auto:\n",
    "        list_door = [num_first_choice, num_door_auto]\n",
    "        num_second_choice = random_choice(list_door)\n",
    "        if num_second_choice == num_door_auto:\n",
    "            win_with_first_change += 1\n",
    "    else:\n",
    "        new_list_door = [num_door_auto]\n",
    "        list_door.remove(num_first_choice)\n",
    "        new_list_door.append(random_choice(list_door))\n",
    "        num_second_choice = random_choice(new_list_door)\n",
    "        if num_second_choice == num_first_choice:\n",
    "            win_without_first_change += 1\n",
    "\n",
    "    list_door = list(range(0, n, 1))\n",
    "\n",
    "print(\"Всего циклов 10000\\nВыйгрышей без смены первоначально выбранной двери: {}\\nВыйгрышей со сменой первоначально выбранной двери: {}\".format(win_without_first_change, win_with_first_change))\n"
   ]
  },
  {
   "cell_type": "code",
   "execution_count": 19,
   "id": "3048acea",
   "metadata": {},
   "outputs": [
    {
     "name": "stdout",
     "output_type": "stream",
     "text": [
      "{'name': 'John Doe', 'age': 82, 'hobbies': ['Python', 'gym']}\n"
     ]
    }
   ],
   "source": [
    "first_name = 'John'\n",
    "last_name = 'Doe'\n",
    "favorite_hobby = 'Python'\n",
    "sports_hobby = 'gym'\n",
    "age = 82\n",
    "\n",
    "my_dict = {\n",
    "    'name': first_name + ' ' + last_name,\n",
    "    'age': age,\n",
    "    'hobbies': [favorite_hobby, sports_hobby]\n",
    "}\n",
    "print(my_dict)"
   ]
  },
  {
   "cell_type": "code",
   "execution_count": 17,
   "id": "ce77082e",
   "metadata": {},
   "outputs": [
    {
     "name": "stdout",
     "output_type": "stream",
     "text": [
      "{'key1': 123, 'key2': 456, 'keyX': 'X'}\n",
      "secret\n",
      "{'key1': 'This is not that hard', 'key2': 'Python is still cool'}\n",
      "{'key1': 123, 'special_key': 'secret'}\n",
      "{'key2': 456, 'keyX': 'X'}\n"
     ]
    }
   ],
   "source": [
    "dict1 = dict(key1='This is not that hard', key2='Python is still cool')\n",
    "dict2 = {'key1': 123, 'special_key': 'secret'}\n",
    "# This is also a away to initialize a dict (list of tuples) \n",
    "dict3 = dict([('key2', 456), ('keyX', 'X')])\n",
    "\n",
    "# Ваше решение\n",
    "my_dict = {}\n",
    "my_dict.update(dict1)\n",
    "my_dict.update(dict2)\n",
    "my_dict.update(dict3)\n",
    "special_value = my_dict['special_key']\n",
    "my_dict.pop('special_key')\n",
    "print(my_dict)\n",
    "print(special_value)\n",
    "print(dict1)\n",
    "print(dict2)\n",
    "print(dict3)"
   ]
  },
  {
   "cell_type": "code",
   "execution_count": null,
   "id": "7ce6cf0f",
   "metadata": {},
   "outputs": [],
   "source": []
  }
 ],
 "metadata": {
  "kernelspec": {
   "display_name": "Python 3 (ipykernel)",
   "language": "python",
   "name": "python3"
  },
  "language_info": {
   "codemirror_mode": {
    "name": "ipython",
    "version": 3
   },
   "file_extension": ".py",
   "mimetype": "text/x-python",
   "name": "python",
   "nbconvert_exporter": "python",
   "pygments_lexer": "ipython3",
   "version": "3.10.0"
  }
 },
 "nbformat": 4,
 "nbformat_minor": 5
}
